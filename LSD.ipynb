{
  "cells": [
    {
      "cell_type": "markdown",
      "metadata": {
        "id": "-2Ec1TeAS3d7"
      },
      "source": [
        "**Užduotys**\n",
        "\n",
        "1.\tRasti, kiek iš viso registruota atvejų Vilniaus miesto savivaldybėje (municipality_code==13) 2021 m. vasario 9 dieną.\n",
        "2.\tRasti, kurioje savivaldybėje yra daugiausia atvejų 80-ies ir vyresnių amžiaus grupėje  (t.y., age_bracket==”Virš 80”)\n",
        "3.\tRasti, kiek iš viso registruota atvejų Lietuvoje 2021 m. vasario 9 dieną \n",
        "4.\tParašyti Python / Pyspark funkciją, kuri  grąžintų atfiltruotą duomenų rinkinį su atvejais, kurie užregistruoti šeštadieniais ir sekmadieniais.\n",
        "5.\tSukurti Pyspark dataframe iš lentelės **amziaus_kategorijos.xlsx** (įkelkite šią lentelę į collab /content aplanką, žr. prie el. laiško prisegtą failą). Sujungti šią lentelę su lentele „COVID19 atvejai pagal lytį ir amžių“ naudojant join. Grąžinti 2021 m. vasario 9 d. atvejų kiekius, sugrupuotus pagal nurodytas amžiaus kategorijas. Pvz:\n",
        "\n",
        "![1.jpg](data:image/jpeg;base64,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)\n",
        "\n",
        "6.\t(sudėtingesnė užduotis) Žr. 5) užduoties formuluotę. Grąžinti atvejus, sugrupuotus pagal nurodytas amžiaus kategorijas visoms datoms. Datos turi būti surikiuotos mažėjimo tvarka pvz.:\n",
        "\n",
        "![2.jpg](data:image/jpeg;base64,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)\n",
        "\n",
        "**Pastaba: Atlikdami užduotis naudokite PySpark. Kodas turėtų būti tvarkingas, lakoniškas, save komentuojantis, o išvesties rezultatai kokybiški.**\n"
      ]
    },
    {
      "cell_type": "markdown",
      "metadata": {
        "id": "1r6AKdm_zuWN"
      },
      "source": [
        "**Kodą rašykite čia**"
      ]
    },
    {
      "cell_type": "code",
      "execution_count": null,
      "metadata": {
        "id": "dADPr4Mpk0rE",
        "vscode": {
          "languageId": "python"
        }
      },
      "outputs": [],
      "source": [
        "from pyspark.sql import functions as F, Row, SparkSession\n",
        "from pyspark.sql.functions import*\n",
        "\n",
        "spark = SparkSession.builder.master(\"local[*]\").getOrCreate()\n"
      ]
    },
    {
      "cell_type": "code",
      "execution_count": null,
      "metadata": {
        "colab": {
          "base_uri": "https://localhost:8080/",
          "height": 219
        },
        "id": "thu2hj1jMyxr",
        "outputId": "389db48a-48d6-48bc-ac6e-f754ef9d82cb",
        "vscode": {
          "languageId": "python"
        }
      },
      "outputs": [
        {
          "data": {
            "text/html": [
              "\n",
              "            <div>\n",
              "                <p><b>SparkSession - in-memory</b></p>\n",
              "                \n",
              "        <div>\n",
              "            <p><b>SparkContext</b></p>\n",
              "\n",
              "            <p><a href=\"http://87cf5e95781f:4040\">Spark UI</a></p>\n",
              "\n",
              "            <dl>\n",
              "              <dt>Version</dt>\n",
              "                <dd><code>v3.3.1</code></dd>\n",
              "              <dt>Master</dt>\n",
              "                <dd><code>local[*]</code></dd>\n",
              "              <dt>AppName</dt>\n",
              "                <dd><code>pyspark-shell</code></dd>\n",
              "            </dl>\n",
              "        </div>\n",
              "        \n",
              "            </div>\n",
              "        "
            ],
            "text/plain": [
              "<pyspark.sql.session.SparkSession at 0x7f9520a2e910>"
            ]
          },
          "execution_count": 7,
          "metadata": {},
          "output_type": "execute_result"
        }
      ],
      "source": [
        "spark"
      ]
    },
    {
      "cell_type": "code",
      "execution_count": null,
      "metadata": {
        "id": "zVmf8onfRAGy",
        "vscode": {
          "languageId": "python"
        }
      },
      "outputs": [],
      "source": [
        "covid_data=spark.read.option('header','true').option(\"delimiter\",\";\").csv('covid_cases_opendata.csv',inferSchema=True)"
      ]
    },
    {
      "cell_type": "code",
      "execution_count": null,
      "metadata": {
        "colab": {
          "base_uri": "https://localhost:8080/"
        },
        "id": "dFSOWLMwRFsC",
        "outputId": "d0ede422-8958-47e0-fda6-4ffc8bcae6b3",
        "vscode": {
          "languageId": "python"
        }
      },
      "outputs": [
        {
          "name": "stdout",
          "output_type": "stream",
          "text": [
            "+---------+--------------------+-------------------+----------+-----------------+----------+-------+\n",
            "|object_id|           case_code|         confirmati|municipali|       municipa_1|age_bracke| gender|\n",
            "+---------+--------------------+-------------------+----------+-----------------+----------+-------+\n",
            "|    91038|357bd6a710733ff74...|2021.02.06 00:00:00|        13| Vilniaus m. sav.|     20-29|Moteris|\n",
            "|    91039|ea7d07493157c9156...|2021.02.06 00:00:00|        13| Vilniaus m. sav.|       0-9|  Vyras|\n",
            "|    91040|57958d08dd6626841...|2021.02.06 00:00:00|        13| Vilniaus m. sav.|     50-59|  Vyras|\n",
            "|    91041|63c621502cbc64b5c...|2021.02.06 00:00:00|        94| Jurbarko r. sav.|     40-49|Moteris|\n",
            "|    91042|a96956ee1dc38d672...|2021.02.06 00:00:00|        13| Vilniaus m. sav.|     50-59|Moteris|\n",
            "|    91043|adceabf3c03d5b848...|2021.02.06 00:00:00|        13| Vilniaus m. sav.|     40-49|Moteris|\n",
            "|    91044|64e1c2c4aa13b47d2...|2021.02.06 00:00:00|        13| Vilniaus m. sav.|     70-79|  Vyras|\n",
            "|    91045|01560d4436b50f759...|2021.02.06 00:00:00|        19|    Kauno m. sav.|     10-19|  Vyras|\n",
            "|    91046|19284e528e93805e6...|2021.02.06 00:00:00|        52|    Kauno r. sav.|     10-19|Moteris|\n",
            "|    91047|98c6d12a2ba615364...|2021.02.06 00:00:00|        11|  Alytaus m. sav.|     10-19|  Vyras|\n",
            "|    91048|8a9a9f0df82783802...|2021.02.06 00:00:00|        19|    Kauno m. sav.|     30-39|Moteris|\n",
            "|    91049|d43baa3376655dc41...|2021.02.06 00:00:00|        66|Panevėžio r. sav.|     50-59|  Vyras|\n",
            "|    91050|2b21686f177c0d90f...|2021.02.06 00:00:00|        79|    Trakų r. sav.|     20-29|Moteris|\n",
            "|    91051|084a0e9eacc487e1d...|2021.02.06 00:00:00|        13| Vilniaus m. sav.|     20-29|  Vyras|\n",
            "|    91052|6e10770eef98cc2dc...|2021.02.06 00:00:00|        33|  Alytaus r. sav.|     50-59|Moteris|\n",
            "|    91053|13c9716b23f62ce32...|2021.02.06 00:00:00|        81| Ukmergės r. sav.|     50-59|  Vyras|\n",
            "|    91054|853bbf2404ee26e50...|2021.02.06 00:00:00|        33|  Alytaus r. sav.|     70-79|  Vyras|\n",
            "|    91055|04d7da98697ff7401...|2021.02.06 00:00:00|        19|    Kauno m. sav.|     40-49|  Vyras|\n",
            "|    91056|15807e7d3fbddf2b0...|2021.02.06 00:00:00|        81| Ukmergės r. sav.|     20-29|Moteris|\n",
            "|    91057|ce5f760e0be8e405b...|2021.02.06 00:00:00|        19|    Kauno m. sav.|     40-49|Moteris|\n",
            "+---------+--------------------+-------------------+----------+-----------------+----------+-------+\n",
            "only showing top 20 rows\n",
            "\n"
          ]
        }
      ],
      "source": [
        "covid_data.show()"
      ]
    },
    {
      "cell_type": "code",
      "execution_count": null,
      "metadata": {
        "colab": {
          "base_uri": "https://localhost:8080/"
        },
        "id": "xSTrxUE8RVZ5",
        "outputId": "1afc41ab-a4d9-4eaf-c046-efbe8a5f0797",
        "vscode": {
          "languageId": "python"
        }
      },
      "outputs": [
        {
          "name": "stdout",
          "output_type": "stream",
          "text": [
            "2021 vasario 9 dieną Vilniuje užfiksuota 103 COVID susirgimo atvejai\n"
          ]
        }
      ],
      "source": [
        "# 1.Rasti, kiek iš viso registruota atvejų Vilniaus miesto savivaldybėje (municipality_code==13) 2021 m. vasario 9 dieną.\n",
        "covid_cases=covid_data.where((covid_data.municipali == '13') & (covid_data.confirmati == '2021.02.09 00:00:00')).count()\n",
        "print(f\"2021 vasario 9 dieną Vilniuje užfiksuota {covid_cases} COVID susirgimo atvejai\")"
      ]
    },
    {
      "cell_type": "code",
      "execution_count": null,
      "metadata": {
        "colab": {
          "base_uri": "https://localhost:8080/"
        },
        "id": "v8zVRntPRcjV",
        "outputId": "11d1620f-9f0f-4c4e-dc74-fcc574d4a493",
        "vscode": {
          "languageId": "python"
        }
      },
      "outputs": [
        {
          "name": "stdout",
          "output_type": "stream",
          "text": [
            "+----------------+----------------+\n",
            "|susirgimu_kiekis|      municipa_1|\n",
            "+----------------+----------------+\n",
            "|            1571|Vilniaus m. sav.|\n",
            "+----------------+----------------+\n",
            "only showing top 1 row\n",
            "\n"
          ]
        }
      ],
      "source": [
        "# 2.Rasti, kurioje savivaldybėje yra daugiausia atvejų 80-ies ir vyresnių amžiaus grupėje (t.y., age_bracket==”Virš 80”)\n",
        "query = \"SELECT COUNT(confirmati) AS susirgimu_kiekis, municipa_1 FROM COVID_DATA WHERE age_bracke == 'Virš 80' GROUP BY municipa_1\"\n",
        "covid_data.createOrReplaceTempView(\"COVID_DATA\")\n",
        "sql_table = spark.sql(query)\n",
        "biggest_case = sql_table.orderBy(col(\"susirgimu_kiekis\").desc())\n",
        "biggest_case.show(1)"
      ]
    },
    {
      "cell_type": "code",
      "execution_count": null,
      "metadata": {
        "colab": {
          "base_uri": "https://localhost:8080/"
        },
        "id": "IE5b6lgvRiGf",
        "outputId": "4c5b2355-5de7-46b9-d397-da6d030ad11f",
        "vscode": {
          "languageId": "python"
        }
      },
      "outputs": [
        {
          "name": "stdout",
          "output_type": "stream",
          "text": [
            "2021 vasario 9 dieną Lietuvoje užfiksuota 569 COVID susirgimo atvejai\n"
          ]
        }
      ],
      "source": [
        "# 3.Rasti, kiek iš viso registruota atvejų Lietuvoje 2021 m. vasario 9 dieną \n",
        "covid_cases = covid_data.where(covid_data.confirmati == '2021.02.09 00:00:00').count()\n",
        "print(f\"2021 vasario 9 dieną Lietuvoje užfiksuota {covid_cases} COVID susirgimo atvejai\")"
      ]
    },
    {
      "cell_type": "code",
      "execution_count": null,
      "metadata": {
        "colab": {
          "base_uri": "https://localhost:8080/"
        },
        "id": "qX8qYqBHRoyB",
        "outputId": "0d3790aa-8232-423b-b86f-bee53dada73c",
        "vscode": {
          "languageId": "python"
        }
      },
      "outputs": [
        {
          "name": "stdout",
          "output_type": "stream",
          "text": [
            "+---------+--------------------+-------------------+----------+-----------------+----------+-------+--------------+\n",
            "|object_id|           case_code|         confirmati|municipali|       municipa_1|age_bracke| gender|day_of_week_US|\n",
            "+---------+--------------------+-------------------+----------+-----------------+----------+-------+--------------+\n",
            "|    91038|357bd6a710733ff74...|2021.02.06 00:00:00|        13| Vilniaus m. sav.|     20-29|Moteris|             7|\n",
            "|    91039|ea7d07493157c9156...|2021.02.06 00:00:00|        13| Vilniaus m. sav.|       0-9|  Vyras|             7|\n",
            "|    91040|57958d08dd6626841...|2021.02.06 00:00:00|        13| Vilniaus m. sav.|     50-59|  Vyras|             7|\n",
            "|    91041|63c621502cbc64b5c...|2021.02.06 00:00:00|        94| Jurbarko r. sav.|     40-49|Moteris|             7|\n",
            "|    91042|a96956ee1dc38d672...|2021.02.06 00:00:00|        13| Vilniaus m. sav.|     50-59|Moteris|             7|\n",
            "|    91043|adceabf3c03d5b848...|2021.02.06 00:00:00|        13| Vilniaus m. sav.|     40-49|Moteris|             7|\n",
            "|    91044|64e1c2c4aa13b47d2...|2021.02.06 00:00:00|        13| Vilniaus m. sav.|     70-79|  Vyras|             7|\n",
            "|    91045|01560d4436b50f759...|2021.02.06 00:00:00|        19|    Kauno m. sav.|     10-19|  Vyras|             7|\n",
            "|    91046|19284e528e93805e6...|2021.02.06 00:00:00|        52|    Kauno r. sav.|     10-19|Moteris|             7|\n",
            "|    91047|98c6d12a2ba615364...|2021.02.06 00:00:00|        11|  Alytaus m. sav.|     10-19|  Vyras|             7|\n",
            "|    91048|8a9a9f0df82783802...|2021.02.06 00:00:00|        19|    Kauno m. sav.|     30-39|Moteris|             7|\n",
            "|    91049|d43baa3376655dc41...|2021.02.06 00:00:00|        66|Panevėžio r. sav.|     50-59|  Vyras|             7|\n",
            "|    91050|2b21686f177c0d90f...|2021.02.06 00:00:00|        79|    Trakų r. sav.|     20-29|Moteris|             7|\n",
            "|    91051|084a0e9eacc487e1d...|2021.02.06 00:00:00|        13| Vilniaus m. sav.|     20-29|  Vyras|             7|\n",
            "|    91052|6e10770eef98cc2dc...|2021.02.06 00:00:00|        33|  Alytaus r. sav.|     50-59|Moteris|             7|\n",
            "|    91053|13c9716b23f62ce32...|2021.02.06 00:00:00|        81| Ukmergės r. sav.|     50-59|  Vyras|             7|\n",
            "|    91054|853bbf2404ee26e50...|2021.02.06 00:00:00|        33|  Alytaus r. sav.|     70-79|  Vyras|             7|\n",
            "|    91055|04d7da98697ff7401...|2021.02.06 00:00:00|        19|    Kauno m. sav.|     40-49|  Vyras|             7|\n",
            "|    91056|15807e7d3fbddf2b0...|2021.02.06 00:00:00|        81| Ukmergės r. sav.|     20-29|Moteris|             7|\n",
            "|    91057|ce5f760e0be8e405b...|2021.02.06 00:00:00|        19|    Kauno m. sav.|     40-49|Moteris|             7|\n",
            "+---------+--------------------+-------------------+----------+-----------------+----------+-------+--------------+\n",
            "only showing top 20 rows\n",
            "\n"
          ]
        }
      ],
      "source": [
        "# 4. Parašyti Python / Pyspark funkciją, kuri grąžintų atfiltruotą duomenų rinkinį su atvejais, kurie užregistruoti šeštadieniais ir sekmadieniais.\n",
        "covid_table = covid_data.withColumn(\"data\", covid_data.confirmati.substr(1,10)).withColumn('data', regexp_replace(col('data'), \"\\\\.\", \"-\"))\n",
        "\n",
        "covid_table = covid_table.withColumn('data',to_date(covid_table.data, 'yyyy-MM-dd'))\n",
        "\n",
        "covid_table = covid_table.withColumn('data',dayofweek(col(\"data\")))\n",
        "covid_table = covid_table.withColumnRenamed(\"data\", \"day_of_week_US\")\n",
        "covid_table = covid_table.withColumn(\"day_of_week_US\",col(\"day_of_week_US\").cast(StringType()))\n",
        "weekend_covid_cases = covid_table.filter((covid_table.day_of_week_US == \"7\") | (covid_table.day_of_week_US == \"1\"))\n",
        "weekend_covid_cases.show()\n"
      ]
    },
    {
      "cell_type": "markdown",
      "metadata": {
        "id": "klBivBtaS0IE"
      },
      "source": [
        "**5 Užduotis**"
      ]
    },
    {
      "cell_type": "code",
      "execution_count": null,
      "metadata": {
        "colab": {
          "base_uri": "https://localhost:8080/"
        },
        "id": "NrGKwUdpS4NF",
        "outputId": "75505804-c88e-4dea-931a-1eb4b290a2e2",
        "vscode": {
          "languageId": "python"
        }
      },
      "outputs": [
        {
          "name": "stdout",
          "output_type": "stream",
          "text": [
            "+--------+-----------+\n",
            "|category|age_bracket|\n",
            "+--------+-----------+\n",
            "|    jaun|        0-9|\n",
            "|    jaun|      10-19|\n",
            "|    jaun|      20-29|\n",
            "|     vid|      30-39|\n",
            "|     vid|      40-49|\n",
            "|     vid|      50-59|\n",
            "|     vyr|      60-69|\n",
            "|     vyr|      70-79|\n",
            "|     vyr|    Virš 80|\n",
            "+--------+-----------+\n",
            "\n"
          ]
        }
      ],
      "source": [
        "categories=spark.read.option('header','true').option(\"delimiter\",\";\").csv('amziaus_kategorijos.csv',inferSchema=True)\n",
        "categories.show()"
      ]
    },
    {
      "cell_type": "code",
      "execution_count": null,
      "metadata": {
        "colab": {
          "base_uri": "https://localhost:8080/"
        },
        "id": "iF2JvXymTYIs",
        "outputId": "7247ac02-bc80-4a21-848a-999fd2570ae7",
        "vscode": {
          "languageId": "python"
        }
      },
      "outputs": [
        {
          "name": "stdout",
          "output_type": "stream",
          "text": [
            "+--------+-----+\n",
            "|category|count|\n",
            "+--------+-----+\n",
            "|    jaun|  109|\n",
            "|    null|    3|\n",
            "|     vid|  291|\n",
            "|     vyr|  166|\n",
            "+--------+-----+\n",
            "\n"
          ]
        }
      ],
      "source": [
        "left_join = covid_data.join(categories, covid_data.age_bracke == categories.age_bracket,how='left').filter(covid_data.confirmati == \"2021.02.09 00:00:00\")\n",
        "\n",
        "covid_cases = left_join.groupBy(\"category\").count()\n",
        "\n",
        "covid_cases.show()"
      ]
    },
    {
      "cell_type": "code",
      "execution_count": null,
      "metadata": {
        "colab": {
          "base_uri": "https://localhost:8080/"
        },
        "id": "No9hAKmhTt84",
        "outputId": "5a368ac7-79e2-4789-fbd2-c6700c09f464",
        "vscode": {
          "languageId": "python"
        }
      },
      "outputs": [
        {
          "name": "stdout",
          "output_type": "stream",
          "text": [
            "+-------------------+----------+\n",
            "|         confirmati|kategorija|\n",
            "+-------------------+----------+\n",
            "|2021.02.09 00:00:00|       vid|\n",
            "|2021.02.09 00:00:00|       vid|\n",
            "|2021.02.09 00:00:00|       vid|\n",
            "|2021.02.09 00:00:00|       vid|\n",
            "|2021.02.09 00:00:00|      jaun|\n",
            "|2021.02.09 00:00:00|       vid|\n",
            "|2021.02.09 00:00:00|       vid|\n",
            "|2021.02.09 00:00:00|       vid|\n",
            "|2021.02.09 00:00:00|       vyr|\n",
            "|2021.02.09 00:00:00|      jaun|\n",
            "|2021.02.09 00:00:00|       vid|\n",
            "|2021.02.09 00:00:00|       vid|\n",
            "|2021.02.09 00:00:00|       vid|\n",
            "|2021.02.09 00:00:00|      jaun|\n",
            "|2021.02.09 00:00:00|      jaun|\n",
            "|2021.02.09 00:00:00|       vyr|\n",
            "|2021.02.09 00:00:00|       vid|\n",
            "|2021.02.09 00:00:00|      jaun|\n",
            "|2021.02.09 00:00:00|       vid|\n",
            "|2021.02.09 00:00:00|      jaun|\n",
            "+-------------------+----------+\n",
            "only showing top 20 rows\n",
            "\n"
          ]
        }
      ],
      "source": [
        "right_table = left_join.select(col(\"confirmati\"),col(\"category\")).withColumnRenamed(\"category\", \"kategorija\")\n",
        "\n",
        "right_table.show()"
      ]
    },
    {
      "cell_type": "code",
      "execution_count": null,
      "metadata": {
        "colab": {
          "base_uri": "https://localhost:8080/"
        },
        "id": "WjEf_KhsT4ld",
        "outputId": "94b0f7d5-6dfc-4c59-912c-a6537b429429",
        "vscode": {
          "languageId": "python"
        }
      },
      "outputs": [
        {
          "name": "stdout",
          "output_type": "stream",
          "text": [
            "+-------------------+----------+-----+\n",
            "|         confirmati|kategorija|count|\n",
            "+-------------------+----------+-----+\n",
            "|2021.02.09 00:00:00|      jaun|  109|\n",
            "|2021.02.09 00:00:00|      jaun|  109|\n",
            "|2021.02.09 00:00:00|      jaun|  109|\n",
            "|2021.02.09 00:00:00|      jaun|  109|\n",
            "|2021.02.09 00:00:00|      jaun|  109|\n",
            "|2021.02.09 00:00:00|      jaun|  109|\n",
            "|2021.02.09 00:00:00|      jaun|  109|\n",
            "|2021.02.09 00:00:00|      jaun|  109|\n",
            "|2021.02.09 00:00:00|      jaun|  109|\n",
            "|2021.02.09 00:00:00|      jaun|  109|\n",
            "|2021.02.09 00:00:00|      jaun|  109|\n",
            "|2021.02.09 00:00:00|      jaun|  109|\n",
            "|2021.02.09 00:00:00|      jaun|  109|\n",
            "|2021.02.09 00:00:00|      jaun|  109|\n",
            "|2021.02.09 00:00:00|      jaun|  109|\n",
            "|2021.02.09 00:00:00|      jaun|  109|\n",
            "|2021.02.09 00:00:00|      jaun|  109|\n",
            "|2021.02.09 00:00:00|      jaun|  109|\n",
            "|2021.02.09 00:00:00|      jaun|  109|\n",
            "|2021.02.09 00:00:00|      jaun|  109|\n",
            "+-------------------+----------+-----+\n",
            "only showing top 20 rows\n",
            "\n"
          ]
        }
      ],
      "source": [
        "left_join2 = covid_cases.join(right_table, covid_cases.category == right_table.kategorija,how='left').select(col(\"confirmati\"),col(\"kategorija\"),col(\"count\"))\n",
        "\n",
        "left_join2.show()"
      ]
    },
    {
      "cell_type": "code",
      "execution_count": null,
      "metadata": {
        "colab": {
          "base_uri": "https://localhost:8080/"
        },
        "id": "wJ-y1CLPUBpi",
        "outputId": "35724708-7968-44be-c961-88bbd02d2dd6",
        "vscode": {
          "languageId": "python"
        }
      },
      "outputs": [
        {
          "name": "stdout",
          "output_type": "stream",
          "text": [
            "+----------+-------------+-------+\n",
            "|      data|amžiaus_grupė|atvejai|\n",
            "+----------+-------------+-------+\n",
            "|2021-02-09|         jaun|    109|\n",
            "|2021-02-09|          vid|    291|\n",
            "|2021-02-09|          vyr|    166|\n",
            "+----------+-------------+-------+\n",
            "\n"
          ]
        }
      ],
      "source": [
        "covid_by_age = left_join2.distinct().filter(left_join2.kategorija != \"null\").withColumnRenamed(\"confirmati\", \"data\").withColumnRenamed(\"kategorija\", \"amžiaus_grupė\")\\\n",
        "    .withColumnRenamed(\"count\", \"atvejai\").withColumn('data', regexp_replace('data', '2021.02.09 00:00:00', '2021-02-09'))\n",
        "\n",
        "covid_by_age.show()"
      ]
    },
    {
      "cell_type": "markdown",
      "metadata": {
        "id": "N8tlrOmQVXYB"
      },
      "source": [
        "**6 Užduotis **"
      ]
    },
    {
      "cell_type": "code",
      "execution_count": null,
      "metadata": {
        "colab": {
          "base_uri": "https://localhost:8080/"
        },
        "id": "4sW39WZWVeN8",
        "outputId": "6375768a-bf6b-45da-d716-4d982f9b8c90",
        "vscode": {
          "languageId": "python"
        }
      },
      "outputs": [
        {
          "name": "stdout",
          "output_type": "stream",
          "text": [
            "+----------+-------------+-------+\n",
            "|      data|amžiaus_grupė|atvejai|\n",
            "+----------+-------------+-------+\n",
            "|2021-02-09|         jaun|    109|\n",
            "|2021-02-09|          vid|    291|\n",
            "|2021-02-09|          vyr|    166|\n",
            "|2021-02-08|         jaun|     85|\n",
            "|2021-02-08|          vid|    191|\n",
            "|2021-02-08|          vyr|    111|\n",
            "|2021-02-07|         jaun|     66|\n",
            "|2021-02-07|          vid|    133|\n",
            "|2021-02-07|          vyr|     71|\n",
            "|2021-02-06|         jaun|    116|\n",
            "|2021-02-06|          vid|    246|\n",
            "|2021-02-06|          vyr|    128|\n",
            "|2021-02-05|         jaun|    143|\n",
            "|2021-02-05|          vid|    372|\n",
            "|2021-02-05|          vyr|    164|\n",
            "|2021-02-04|         jaun|    126|\n",
            "|2021-02-04|          vid|    335|\n",
            "|2021-02-04|          vyr|    198|\n",
            "|2021-02-03|         jaun|    150|\n",
            "|2021-02-03|          vid|    366|\n",
            "|2021-02-03|          vyr|    204|\n",
            "|2021-02-02|         jaun|    147|\n",
            "|2021-02-02|          vid|    400|\n",
            "|2021-02-02|          vyr|    210|\n",
            "|2021-02-01|         jaun|    121|\n",
            "|2021-02-01|          vid|    266|\n",
            "|2021-02-01|          vyr|    157|\n",
            "|2021-01-31|         jaun|     84|\n",
            "|2021-01-31|          vid|    166|\n",
            "|2021-01-31|          vyr|    106|\n",
            "|2021-01-30|         jaun|    172|\n",
            "|2021-01-30|          vid|    412|\n",
            "|2021-01-30|          vyr|    220|\n",
            "|2021-01-29|         jaun|    148|\n",
            "|2021-01-29|          vid|    366|\n",
            "|2021-01-29|          vyr|    208|\n",
            "|2021-01-28|         jaun|    189|\n",
            "|2021-01-28|          vid|    428|\n",
            "|2021-01-28|          vyr|    242|\n",
            "|2021-01-27|         jaun|    208|\n",
            "|2021-01-27|          vid|    453|\n",
            "|2021-01-27|          vyr|    283|\n",
            "|2021-01-26|         jaun|    234|\n",
            "|2021-01-26|          vid|    695|\n",
            "|2021-01-26|          vyr|    354|\n",
            "|2021-01-25|         jaun|    140|\n",
            "|2021-01-25|          vid|    363|\n",
            "|2021-01-25|          vyr|    190|\n",
            "|2021-01-24|         jaun|    105|\n",
            "|2021-01-24|          vid|    295|\n",
            "|2021-01-24|          vyr|    141|\n",
            "|2021-01-23|         jaun|    139|\n",
            "|2021-01-23|          vid|    408|\n",
            "|2021-01-23|          vyr|    226|\n",
            "|2021-01-22|         jaun|    199|\n",
            "|2021-01-22|          vid|    527|\n",
            "|2021-01-22|          vyr|    283|\n",
            "|2021-01-21|         jaun|    202|\n",
            "|2021-01-21|          vid|    543|\n",
            "|2021-01-21|          vyr|    288|\n",
            "|2021-01-20|         jaun|    263|\n",
            "|2021-01-20|          vid|    626|\n",
            "|2021-01-20|          vyr|    391|\n",
            "|2021-01-19|         jaun|    223|\n",
            "|2021-01-19|          vid|    649|\n",
            "|2021-01-19|          vyr|    360|\n",
            "|2021-01-18|         jaun|    204|\n",
            "|2021-01-18|          vid|    390|\n",
            "|2021-01-18|          vyr|    275|\n",
            "|2021-01-17|         jaun|    103|\n",
            "|2021-01-17|          vid|    255|\n",
            "|2021-01-17|          vyr|    119|\n",
            "|2021-01-16|         jaun|    155|\n",
            "|2021-01-16|          vid|    464|\n",
            "|2021-01-16|          vyr|    224|\n",
            "|2021-01-15|         jaun|    241|\n",
            "|2021-01-15|          vid|    633|\n",
            "|2021-01-15|          vyr|    362|\n",
            "|2021-01-14|         jaun|    223|\n",
            "|2021-01-14|          vid|    671|\n",
            "|2021-01-14|          vyr|    334|\n",
            "|2021-01-13|         jaun|    300|\n",
            "|2021-01-13|          vid|    747|\n",
            "|2021-01-13|          vyr|    398|\n",
            "|2021-01-12|         jaun|    324|\n",
            "|2021-01-12|          vid|    964|\n",
            "|2021-01-12|          vyr|    475|\n",
            "|2021-01-11|         jaun|    237|\n",
            "|2021-01-11|          vid|    504|\n",
            "|2021-01-11|          vyr|    271|\n",
            "|2021-01-10|         jaun|    144|\n",
            "|2021-01-10|          vid|    361|\n",
            "|2021-01-10|          vyr|    269|\n",
            "|2021-01-09|         jaun|    311|\n",
            "|2021-01-09|          vid|    785|\n",
            "|2021-01-09|          vyr|    407|\n",
            "|2021-01-08|         jaun|    413|\n",
            "|2021-01-08|          vid|    884|\n",
            "|2021-01-08|          vyr|    467|\n",
            "|2021-01-07|         jaun|    439|\n",
            "+----------+-------------+-------+\n",
            "only showing top 100 rows\n",
            "\n"
          ]
        }
      ],
      "source": [
        "left_join3 = covid_data.join(categories, covid_data.age_bracke == categories.age_bracket,how='left').select(col(\"confirmati\"),col(\"category\"))\n",
        "cases = left_join3.groupBy(\"confirmati\", \"category\").count()\n",
        "sorted_cases = cases.sort(col(\"confirmati\").desc(),col(\"category\").asc())\n",
        "answer = sorted_cases.withColumnRenamed(\"confirmati\", \"data\").withColumnRenamed(\"category\", \"amžiaus_grupė\").withColumnRenamed(\"count\", \"atvejai\").filter(sorted_cases.category != \"null\")\n",
        "answer = answer.withColumn('data', substring('data', 1,10)).withColumn('data', regexp_replace('data', '\\\\.', '-'))\n",
        "answer.show(100)"
      ]
    },
    {
      "cell_type": "code",
      "execution_count": null,
      "metadata": {
        "id": "d3UxRG8wXAS1",
        "vscode": {
          "languageId": "python"
        }
      },
      "outputs": [],
      "source": []
    }
  ],
  "metadata": {
    "colab": {
      "collapsed_sections": [],
      "provenance": [],
      "toc_visible": true
    },
    "kernelspec": {
      "display_name": "Python 3",
      "name": "python3"
    }
  },
  "nbformat": 4,
  "nbformat_minor": 0
}
